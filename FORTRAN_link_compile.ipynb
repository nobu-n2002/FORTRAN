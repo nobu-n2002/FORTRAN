{
  "nbformat": 4,
  "nbformat_minor": 0,
  "metadata": {
    "colab": {
      "provenance": [],
      "authorship_tag": "ABX9TyOWAxSL/eJzTGTpYW20OH82",
      "include_colab_link": true
    },
    "kernelspec": {
      "name": "python3",
      "display_name": "Python 3"
    },
    "language_info": {
      "name": "python"
    }
  },
  "cells": [
    {
      "cell_type": "markdown",
      "metadata": {
        "id": "view-in-github",
        "colab_type": "text"
      },
      "source": [
        "<a href=\"https://colab.research.google.com/github/nobu-n2002/memorandum-FORTRAN/blob/main/FORTRAN_link_compile.ipynb\" target=\"_parent\"><img src=\"https://colab.research.google.com/assets/colab-badge.svg\" alt=\"Open In Colab\"/></a>"
      ]
    },
    {
      "cell_type": "markdown",
      "source": [
        "# FORTRANのリンク・コンパイル"
      ],
      "metadata": {
        "id": "lBW4VwD_Ug35"
      }
    },
    {
      "cell_type": "markdown",
      "source": [
        "## 全体像\n",
        "\n",
        "想定コンパイラ: GNUコンパイラ(gfortran)  \n",
        "想定環境: Linux系OS\n",
        "\n",
        "FORTRANファイルが大規模になると、コード修正やコンパイルにて面倒毎が増える。そこで、コンパイルとリンクを使い分けた実行ファイルの作成が有効である。\n",
        "まず、モジュール用ファイルと、メインファイルを準備し、それぞれコンパイルする。このとき、`-c`オプションを用いて実行ファイルではなくオブジェクトファイルのみを生成する。\n",
        "```\n",
        "gfortran -c module.f90 -o module.o\n",
        "gfortran -c main.f90 -o main.o\n",
        "```\n",
        "生成されたオブジェクトファイルをまとめてコンパイルし、実行ファイルにする。\n",
        "```\n",
        "gfortran module.o main.o -o program\n",
        "```\n"
      ],
      "metadata": {
        "id": "SsldGaMQUkt8"
      }
    },
    {
      "cell_type": "markdown",
      "source": [
        "## モジュールファイルの作成\n",
        "\n",
        "モジュールファイルは、以下の書式で作成する。\n",
        "```\n",
        "! module.f90\n",
        "module {module_name}\n",
        "  implicit none\n",
        "  contains ! これ大事\n",
        "  ! ---\n",
        "  ! subroutineなどを含むコード\n",
        "  ! subroutineの数に限りはない\n",
        "  ! ---\n",
        "end module {module_name}\n",
        "```\n",
        "以下のコードブロックを実行すると、`./content`ディレクトリに`my_module.f90`が生成される。（確認できない場合は、ディレクトリの更新を押すか、新しいコードブロックで`!ls`を実行）"
      ],
      "metadata": {
        "id": "8JdkswqkViok"
      }
    },
    {
      "cell_type": "code",
      "execution_count": 49,
      "metadata": {
        "colab": {
          "base_uri": "https://localhost:8080/"
        },
        "id": "nRdPr6dwSRi3",
        "outputId": "5929d2a0-b05d-4d7a-86fb-f571818a0d67"
      },
      "outputs": [
        {
          "output_type": "stream",
          "name": "stdout",
          "text": [
            "Overwriting my_module.f90\n"
          ]
        }
      ],
      "source": [
        "%%writefile my_module.f90\n",
        "module my_module\n",
        "  implicit none\n",
        "  contains\n",
        "\n",
        "  subroutine hello()\n",
        "    write(*,*) \"Hello, this is your module's subroutine.\"\n",
        "  end subroutine hello\n",
        "\n",
        "  subroutine add(a, b)\n",
        "    ! local variables\n",
        "    real,intent(in)::a, b\n",
        "    real::c\n",
        "    c = a + b\n",
        "    write(*,*) a, \"+\", b, \"=\", c\n",
        "    return\n",
        "  end subroutine add\n",
        "end module my_module"
      ]
    },
    {
      "cell_type": "markdown",
      "source": [
        "## モジュールファイルのコンパイル\n",
        "\n",
        "前のブロックで生成した`my_module.f90`をコンパイルし、オブジェクトファイルを生成する。以下のコードブロックを実行すると、`./content`ディレクトリに`my_module.o`が生成される。（確認できない場合は、ディレクトリの更新を押すか、新しいコードブロックで`!ls`を実行）\n",
        "\n",
        "なお、`-o`コマンドで出力ファイル名を指定しない場合は、`*.f90`のファイル名を引き継ぎ`*.o`が生成される。"
      ],
      "metadata": {
        "id": "MUheG5YyW7HG"
      }
    },
    {
      "cell_type": "code",
      "source": [
        "%%bash\n",
        "gfortran -c my_module.f90 -o my_module.o"
      ],
      "metadata": {
        "id": "S4XR6pzfW6Um"
      },
      "execution_count": 50,
      "outputs": []
    },
    {
      "cell_type": "markdown",
      "source": [
        "## メインファイルの作成\n",
        "\n",
        "メインファイルは、以下の書式で作成する。\n",
        "```\n",
        "! main.f90\n",
        "program {main_program_name}\n",
        "  use {module_name} ! これ大事: 先ほど作成したオブジェクトファイル名とする\n",
        "  implicit none\n",
        "  ! ---\n",
        "  ! 以下メインプログラム\n",
        "  ! module内で定義したsubtoutineがcall可能\n",
        "  ! call {subroutine}\n",
        "  ! ---\n",
        "end module {main_program_name}\n",
        "```\n",
        "以下のコードブロックを実行すると、`./content`ディレクトリに`main.f90`が生成される。（確認できない場合は、ディレクトリの更新を押すか、新しいコードブロックで`!ls`を実行）"
      ],
      "metadata": {
        "id": "eS_adDxwW6BA"
      }
    },
    {
      "cell_type": "code",
      "source": [
        "%%writefile main_program.f90\n",
        "program main_program\n",
        "  use my_module\n",
        "  implicit none\n",
        "  real::a,b\n",
        "  a = 2\n",
        "  b = 4\n",
        "  call hello()\n",
        "  call add(a,b)\n",
        "end program main_program"
      ],
      "metadata": {
        "colab": {
          "base_uri": "https://localhost:8080/"
        },
        "id": "WjXgzXkOTS3M",
        "outputId": "ca9463d5-13b6-449b-d387-e8414013513f"
      },
      "execution_count": 51,
      "outputs": [
        {
          "output_type": "stream",
          "name": "stdout",
          "text": [
            "Overwriting main_program.f90\n"
          ]
        }
      ]
    },
    {
      "cell_type": "markdown",
      "source": [
        "## メインファイルのコンパイル\n",
        "\n",
        "前のブロックで生成した`main.f90`をコンパイルし、オブジェクトファイルを生成する。以下のコードブロックを実行すると、`./content`ディレクトリに`main.o`が生成される。（確認できない場合は、ディレクトリの更新を押すか、新しいコードブロックで`!ls`を実行）"
      ],
      "metadata": {
        "id": "zEq5UdbiYXgI"
      }
    },
    {
      "cell_type": "code",
      "source": [
        "%%bash\n",
        "gfortran -c main_program.f90 -o main_program.o"
      ],
      "metadata": {
        "id": "2ULx1qANTq1H"
      },
      "execution_count": 52,
      "outputs": []
    },
    {
      "cell_type": "markdown",
      "source": [
        "## モジュールとメインのリンク\n",
        "\n",
        "以上により生成されたオブジェクトファイルを以下の書式でリンクコンパイルし、実行ファイル`program`を生成する。ただし、オブジェクトファイルの数に限りはない。先ほどのオブジェクトファイルのみの生成時には、`-c`というオプションをつけていたが、今回は実行ファイルを生成するため必要ない。\n",
        "\n",
        "また、`-o`の後の引数は実行ファイル名を表すため、なんでもよい。ここでは、`program`としている。これを指定しない場合、Linux系では`a.out`、Windows系では`a.exe`が実行ファイルとして生成される。\n",
        "```\n",
        "gfortran module1.o module2.o module3.o main.o -o program\n",
        "```"
      ],
      "metadata": {
        "id": "kGm4sEreYc6i"
      }
    },
    {
      "cell_type": "code",
      "source": [
        "%%bash\n",
        "gfortran my_module.o main_program.o -o program"
      ],
      "metadata": {
        "id": "vkeGdhjET_KA"
      },
      "execution_count": 67,
      "outputs": []
    },
    {
      "cell_type": "markdown",
      "source": [
        "## プログラムの実行と確認\n",
        "\n",
        "プログラムの実行は、`./{実行ファイル名}`で行う。先ほどのコンパイルでは、実行ファイル名を`program`としたため、\n",
        "```\n",
        "./program\n",
        "```\n",
        "で実行が可能である。"
      ],
      "metadata": {
        "id": "gmG6VxmPZmGw"
      }
    },
    {
      "cell_type": "code",
      "source": [
        "%%bash\n",
        "./program"
      ],
      "metadata": {
        "colab": {
          "base_uri": "https://localhost:8080/"
        },
        "id": "9eCLSTNtUQX-",
        "outputId": "923dcb29-95dd-41fa-f5f5-03d18182606b"
      },
      "execution_count": 70,
      "outputs": [
        {
          "output_type": "stream",
          "name": "stdout",
          "text": [
            " Hello, this is your module's subroutine.\n",
            "   2.00000000     +   4.00000000     =   6.00000000    \n"
          ]
        }
      ]
    },
    {
      "cell_type": "markdown",
      "source": [
        "# Google Colab のマジックコマンド\n",
        "\n",
        "\n",
        "\n",
        "1.   ファイルの生成  \n",
        "`%%`をつけた操作がいくつか用意されている。以下はファイルを生成するコマンド。その他のコマンドは、コードブロックで`%magic`を実行すると確認することができる。\n",
        "```\n",
        "%%writefile {ファイル名}\n",
        "ファイルの中身\n",
        "```\n",
        "\n",
        "2.   ターミナル操作  \n",
        "ターミナル操作は、コードブロックで行うことができる。いくつかやり方が存在するが、可読性の観点から、マジックコマンド`%%bash`をコードブロックの1行目に記述する方法がおススメ。`%%sh`を使いシェルスクリプトを組むことも可能。\n",
        "```\n",
        "%%bash\n",
        "{コマンド}\n",
        "```\n",
        "```\n",
        "%%sh\n",
        "{スクリプト}\n",
        "```\n"
      ],
      "metadata": {
        "id": "rswzABJXbKlM"
      }
    }
  ]
}